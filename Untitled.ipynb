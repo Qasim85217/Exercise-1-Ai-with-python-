{
 "cells": [
  {
   "cell_type": "markdown",
   "id": "0261b31b",
   "metadata": {},
   "source": [
    "### Task 1\n",
    "service_time=int(input(\"How many years You worked in this company?\"))\n",
    "if service_time>5:\n",
    "        salary=int(input(\"Please enter your salary\"))\n",
    "        salary_bonus=salary+((salary*5)/100)\n",
    "        print(\"your salary with bonus is\",salary_bonus)  \n",
    "\n",
    "else:\n",
    "    print(\"Sorry You are not eligible for this bonus\")\n"
   ]
  },
  {
   "cell_type": "markdown",
   "id": "4a4fdc56",
   "metadata": {},
   "source": [
    "### Task 2\n",
    "age=int(input(\"please input your age for voting\"))\n",
    "if age>17:\n",
    "    print(\"You are eligible for voting.\")\n",
    "else:\n",
    "    print(\"You ar not eligible for voting.Please try to vote after \",18-age,\" years.\")\n",
    "    "
   ]
  },
  {
   "cell_type": "markdown",
   "id": "fac242cb",
   "metadata": {},
   "source": [
    "### task 3\n",
    "num_even_odd=int(input(\"Please Enter Any Number...\"))\n",
    "if num_even_odd%2==0:\n",
    "    print(\"It is the even number.\")\n",
    "else:\n",
    "    print(\"It is odd number.\")"
   ]
  },
  {
   "cell_type": "markdown",
   "id": "69423ee8",
   "metadata": {},
   "source": [
    "### Task 4\n",
    "num_div_7=int(input(\"Please input any number for check which is divisble by 7\"))\n",
    "if num_div_7%7==0:\n",
    "    print(num_div_7,\" divided by 7 is \",num_div_7/7)\n",
    "else:\n",
    "    print(num_div_7,\" is not divisible by 7 which is\")"
   ]
  },
  {
   "cell_type": "markdown",
   "id": "e115f033",
   "metadata": {},
   "source": [
    "### task 5\n",
    "num_div_5=int(input(\"Enter a number:\"))\n",
    "if num_div_5%5==0:\n",
    "    print(\"hello\")\n",
    "else:\n",
    "    print(\"Bye\")"
   ]
  },
  {
   "cell_type": "markdown",
   "id": "851249e1",
   "metadata": {},
   "source": [
    "### Task 6\n",
    "units = int(input(\"Enter the number of units: \"))\n",
    "if units <= 100:\n",
    "    total_bill = 0\n",
    "elif units <= 300:\n",
    "    total_bill = (units - 100) * 5\n",
    "else:\n",
    "    total_bill = 200 * 5 + (units - 300) * 10\n",
    "\n",
    "print(\"Total bill amount: Rs.\",total_bill)"
   ]
  },
  {
   "cell_type": "markdown",
   "id": "6151f8e1",
   "metadata": {},
   "source": [
    "### Task 7\n",
    "number = int(input(\"Enter a number: \"))\n",
    "last_digit = number % 10\n",
    "print(\"The last digit of the number is:\",last_digit)"
   ]
  },
  {
   "cell_type": "markdown",
   "id": "e66fcc51",
   "metadata": {},
   "source": [
    "### Task 8\n",
    "num_div_3 = int(input(\"Enter a number\"))\n",
    "last_digit=num_div_3%10\n",
    "if last_digit % 3 == 0:\n",
    "    print(\"The last digit is divisible by 3.\")\n",
    "else:\n",
    "    print(\"The last digit is not divisible by 3.\")"
   ]
  },
  {
   "cell_type": "markdown",
   "id": "ea721fb4",
   "metadata": {},
   "source": [
    "### Task 9\n",
    "length = float(input(\"Enter the length of the rectangle: \"))\n",
    "breadth = float(input(\"Enter the breadth of the rectangle: \"))\n",
    "\n",
    "if length == breadth:\n",
    "    print(\"It is a square.\")\n",
    "else:\n",
    "    print(\"It is a rectangle.\")"
   ]
  },
  {
   "cell_type": "markdown",
   "id": "52384885",
   "metadata": {},
   "source": [
    "### Task 10\n",
    "num1 = int(input(\"Enter the first number...\"))\n",
    "num2 = int(input(\"Enter the second number...\"))\n",
    "\n",
    "if num1 > num2:\n",
    "    print(\"The greatest number is \",num1)\n",
    "else:\n",
    "    print(\"The greatest number is \",num2)"
   ]
  },
  {
   "cell_type": "markdown",
   "id": "735d67fd",
   "metadata": {},
   "source": [
    "### Task 11\n",
    "quantity = int(input(\"Enter the quantity: \"))\n",
    "unit_cost = 100\n",
    "total_cost = quantity * unit_cost\n",
    "\n",
    "if total_cost > 1000:\n",
    "    discount = 0.10 * total_cost\n",
    "    total_cost -= discount\n",
    "\n",
    "print(\"The total cost for the user is \",total_cost)"
   ]
  },
  {
   "cell_type": "markdown",
   "id": "8d55b1ab",
   "metadata": {},
   "source": [
    "### Task 12\n",
    "marks = float(input(\"Enter your marks: \"))\n",
    "if marks < 25:\n",
    "    grade = 'F'\n",
    "elif  marks>=25 and marks <= 45:\n",
    "    grade = 'E'\n",
    "elif marks>=46 and marks <= 50:\n",
    "    grade = 'D'\n",
    "elif marks>=51 and marks <= 60:\n",
    "    grade = 'C'\n",
    "elif marks>=61 and marks <= 80:\n",
    "    grade = 'B'\n",
    "else:\n",
    "    grade = 'A'\n",
    "\n",
    "print(\"Your grade is \",grade)"
   ]
  },
  {
   "cell_type": "markdown",
   "id": "865ba364",
   "metadata": {},
   "source": [
    "### Task 13\n",
    "age1 = int(input(\"Enter age of person 1: \"))\n",
    "age2 = int(input(\"Enter age of person 2: \"))\n",
    "age3 = int(input(\"Enter age of person 3: \"))\n",
    "if age1 >= age2 and age1 >= age3:\n",
    "    oldest = age1\n",
    "elif age2 >= age1 and age2 >= age3:\n",
    "    oldest = age2\n",
    "else:\n",
    "    oldest = age3\n",
    "\n",
    "if age1 <= age2 and age1 <= age3:\n",
    "    youngest = age1\n",
    "elif age2 <= age1 and age2 <= age3:\n",
    "    youngest = age2\n",
    "else:\n",
    "    youngest = age3\n",
    "\n",
    "print(\"Oldest person's age:\",oldest)\n",
    "print(\"Youngest person's age:\",youngest)"
   ]
  },
  {
   "cell_type": "markdown",
   "id": "de22803c",
   "metadata": {},
   "source": [
    "### Task 14\n",
    "classes_held = int(input(\"Enter the number of classes held: \"))\n",
    "classes_attended = int(input(\"Enter the number of classes attended: \"))\n",
    "attendance_percentage = (classes_attended / classes_held) * 100\n",
    "if attendance_percentage >= 75:\n",
    "    print(\"Percentage of classes attended\",attendance_percentage)\n",
    "    print(\"Student is allowed to sit in the exam.\")\n",
    "else:\n",
    "    print(\"Student is not allowed to sit in the exam.Bcz it's attendace is less than 75%.\")"
   ]
  },
  {
   "cell_type": "markdown",
   "id": "56690eb1",
   "metadata": {},
   "source": [
    "### Task 15\n",
    "class_held = int(input(\"Enter the number of classes held: \"))\n",
    "class_attended = int(input(\"Enter the number of classes attended: \"))\n",
    "medical_cause =int(input(\"How many class you leave due to medical issue:\"))\n",
    "attendance_percentage =(((class_attended+medical_cause)/class_held)*100)\n",
    "if attendance_percentage >= 75:\n",
    "    print(\"Percentage of classes attended:\",attendance_percentage)\n",
    "    print(\"Student is allowed to sit in the exam.\")\n",
    "else:\n",
    "    print(\"Percentage of classes attended:\",attendance_percentage)\n",
    "    print(\"Student is not allowed to sit in the exam.\")"
   ]
  },
  {
   "cell_type": "markdown",
   "id": "700060d9",
   "metadata": {},
   "source": [
    "### Task 16\n",
    "year = int(input(\"Enter a year: \"))\n",
    "if (year % 4 == 0 and year % 100 != 0) or (year % 400 == 0):\n",
    "    print(year,\" is a leap year.\")\n",
    "else:\n",
    "    print( year,\"is not a leap year.\")"
   ]
  },
  {
   "cell_type": "markdown",
   "id": "c23dd8c8",
   "metadata": {},
   "source": [
    "### Task 17\n",
    "age = int(input(\"Enter age:\"))\n",
    "gender = input(\"Enter gender (M/F):\").upper()\n",
    "marital_status = input(\"Enter marital status (Y/N):\").upper\n",
    "if gender == 'F':\n",
    "    print(\"She will work only in urban areas.\")\n",
    "elif gender == 'M' and 20 <= age <= 40:\n",
    "    print(\"He may work anywhere.\")\n",
    "elif gender == 'M' and 40 <= age <= 60:\n",
    "    print(\"He will work in urban areas only.\")\n",
    "else:\n",
    "    print(\"Error!\")"
   ]
  }
 ],
 "metadata": {
  "kernelspec": {
   "display_name": "Python 3 (ipykernel)",
   "language": "python",
   "name": "python3"
  },
  "language_info": {
   "codemirror_mode": {
    "name": "ipython",
    "version": 3
   },
   "file_extension": ".py",
   "mimetype": "text/x-python",
   "name": "python",
   "nbconvert_exporter": "python",
   "pygments_lexer": "ipython3",
   "version": "3.11.5"
  }
 },
 "nbformat": 4,
 "nbformat_minor": 5
}
